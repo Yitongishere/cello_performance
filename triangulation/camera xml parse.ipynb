{
 "cells": [
  {
   "cell_type": "code",
   "execution_count": 1,
   "id": "70bbb65f",
   "metadata": {
    "ExecuteTime": {
     "start_time": "2023-11-16T15:48:32.781157Z",
     "end_time": "2023-11-16T15:48:32.782480Z"
    }
   },
   "outputs": [],
   "source": [
    "from xml.dom.minidom import parse"
   ]
  },
  {
   "cell_type": "code",
   "execution_count": 2,
   "id": "c58c2426",
   "metadata": {
    "ExecuteTime": {
     "start_time": "2023-11-16T15:48:32.781437Z",
     "end_time": "2023-11-16T15:48:32.793236Z"
    }
   },
   "outputs": [
    {
     "data": {
      "text/plain": "<DOM Element: document at 0x7fb41378fa60>"
     },
     "execution_count": 2,
     "metadata": {},
     "output_type": "execute_result"
    }
   ],
   "source": [
    "dom = parse('cello_1113_scale_camera.xml')\n",
    "elem = dom.documentElement\n",
    "elem"
   ]
  },
  {
   "cell_type": "code",
   "execution_count": 3,
   "id": "b5f2e891",
   "metadata": {
    "ExecuteTime": {
     "start_time": "2023-11-16T15:48:32.781642Z",
     "end_time": "2023-11-16T15:48:32.793434Z"
    }
   },
   "outputs": [],
   "source": [
    "sensors = elem.getElementsByTagName('calibration')"
   ]
  },
  {
   "cell_type": "code",
   "execution_count": 4,
   "id": "d9b06062",
   "metadata": {
    "ExecuteTime": {
     "start_time": "2023-10-09T16:51:46.253216Z",
     "end_time": "2023-10-09T16:51:46.253965Z"
    }
   },
   "outputs": [
    {
     "ename": "IndexError",
     "evalue": "list index out of range",
     "output_type": "error",
     "traceback": [
      "\u001B[0;31m---------------------------------------------------------------------------\u001B[0m",
      "\u001B[0;31mIndexError\u001B[0m                                Traceback (most recent call last)",
      "Cell \u001B[0;32mIn[4], line 31\u001B[0m\n\u001B[1;32m     28\u001B[0m intrinsics[\u001B[38;5;124m'\u001B[39m\u001B[38;5;124mK\u001B[39m\u001B[38;5;124m'\u001B[39m]\u001B[38;5;241m.\u001B[39mappend(K)\n\u001B[1;32m     30\u001B[0m \u001B[38;5;66;03m# 径向畸变参数\u001B[39;00m\n\u001B[0;32m---> 31\u001B[0m k1 \u001B[38;5;241m=\u001B[39m \u001B[38;5;28mfloat\u001B[39m(\u001B[43msensor\u001B[49m\u001B[38;5;241;43m.\u001B[39;49m\u001B[43mgetElementsByTagName\u001B[49m\u001B[43m(\u001B[49m\u001B[38;5;124;43m'\u001B[39;49m\u001B[38;5;124;43mk1\u001B[39;49m\u001B[38;5;124;43m'\u001B[39;49m\u001B[43m)\u001B[49m\u001B[43m[\u001B[49m\u001B[38;5;241;43m0\u001B[39;49m\u001B[43m]\u001B[49m\u001B[38;5;241m.\u001B[39mchildNodes[\u001B[38;5;241m0\u001B[39m]\u001B[38;5;241m.\u001B[39mnodeValue)\n\u001B[1;32m     32\u001B[0m k2 \u001B[38;5;241m=\u001B[39m \u001B[38;5;28mfloat\u001B[39m(sensor\u001B[38;5;241m.\u001B[39mgetElementsByTagName(\u001B[38;5;124m'\u001B[39m\u001B[38;5;124mk2\u001B[39m\u001B[38;5;124m'\u001B[39m)[\u001B[38;5;241m0\u001B[39m]\u001B[38;5;241m.\u001B[39mchildNodes[\u001B[38;5;241m0\u001B[39m]\u001B[38;5;241m.\u001B[39mnodeValue)\n\u001B[1;32m     33\u001B[0m \u001B[38;5;28;01mtry\u001B[39;00m:\n",
      "\u001B[0;31mIndexError\u001B[0m: list index out of range"
     ]
    }
   ],
   "source": [
    "# 默认字典值为空列表\n",
    "from collections import defaultdict\n",
    "intrinsics = defaultdict(list)\n",
    "\n",
    "for sensor in sensors:\n",
    "    resolution = sensor.getElementsByTagName('resolution')\n",
    "    width = resolution[0].getAttribute('width')\n",
    "    height = resolution[0].getAttribute('height')\n",
    "    intrinsics['width'].append(float(width))\n",
    "    intrinsics['height'].append(float(height))\n",
    "    \n",
    "    f = float(sensor.getElementsByTagName('f')[0].childNodes[0].nodeValue)\n",
    "    intrinsics['f'].append(f)\n",
    "    try:\n",
    "        cx = sensor.getElementsByTagName('cx')[0].childNodes[0].nodeValue\n",
    "        cx = float(width)/2 + float(cx)\n",
    "    except IndexError as e:\n",
    "        cx = 0\n",
    "        intrinsics['cx'].append(cx)\n",
    "    try:\n",
    "        cy = sensor.getElementsByTagName('cy')[0].childNodes[0].nodeValue\n",
    "        cy = float(height)/2 + float(cy)\n",
    "    except IndexError as e:\n",
    "        cy = 0\n",
    "        intrinsics['cy'].append(cy)\n",
    "    \n",
    "    K = [f, 0, cx, 0, f, cy, 0, 0, 1]\n",
    "    intrinsics['K'].append(K)\n",
    "    \n",
    "    # 径向畸变参数\n",
    "    k1 = float(sensor.getElementsByTagName('k1')[0].childNodes[0].nodeValue)\n",
    "    k2 = float(sensor.getElementsByTagName('k2')[0].childNodes[0].nodeValue)\n",
    "    try:\n",
    "        k3 = float(sensor.getElementsByTagName('k3')[0].childNodes[0].nodeValue)\n",
    "    except IndexError as e:\n",
    "        k3 = 0\n",
    "\n",
    "#     radial_distortion = [k1, k2, k3]\n",
    "#     intrinsics['radiDistort'].append(radial_distortion)\n",
    "    \n",
    "    # 切向畸变参数\n",
    "    p1 = float(sensor.getElementsByTagName('p1')[0].childNodes[0].nodeValue)\n",
    "    p2 = float(sensor.getElementsByTagName('p2')[0].childNodes[0].nodeValue)\n",
    "#     circumferential_distortion = [p1, p2]\n",
    "#     intrinsics['circumDistort'].append(circumferential_distortion)\n",
    "    \n",
    "    distort = [k1, k2, p1, p2, k3]\n",
    "    intrinsics['distort'].append(distort)"
   ]
  },
  {
   "cell_type": "code",
   "execution_count": null,
   "id": "4c39ef06",
   "metadata": {
    "ExecuteTime": {
     "start_time": "2023-10-09T16:51:46.253371Z",
     "end_time": "2023-10-09T16:51:46.254067Z"
    }
   },
   "outputs": [],
   "source": [
    "import re\n",
    "def camera_sort(label):\n",
    "    if re.search('21334181', label):\n",
    "        return 0\n",
    "    elif re.search('21334237', label):\n",
    "        return 1\n",
    "    elif re.search('21334180', label):\n",
    "        return 2\n",
    "    elif re.search('21334209', label):\n",
    "        return 3\n",
    "    elif re.search('21334208', label):\n",
    "        return 4\n",
    "    elif re.search('21334186', label):\n",
    "        return 5\n",
    "    elif re.search('21293326', label):\n",
    "        return 6\n",
    "    elif re.search('21293325', label):\n",
    "        return 7\n",
    "    elif re.search('21293324', label):\n",
    "        return 8\n",
    "    elif re.search('21334206', label):\n",
    "        return 9\n",
    "    elif re.search('21334220', label):\n",
    "        return 10\n",
    "    elif re.search('21334183', label):\n",
    "        return 11\n",
    "    elif re.search('21334207', label):\n",
    "        return 12\n",
    "    elif re.search('21334191', label):\n",
    "        return 13\n",
    "    elif re.search('21334184', label):\n",
    "        return 14\n",
    "    elif re.search('21334238', label):\n",
    "        return 15\n",
    "    elif re.search('21334221', label):\n",
    "        return 16\n",
    "    elif re.search('21334219', label):\n",
    "        return 17\n",
    "    elif re.search('21334190', label):\n",
    "        return 18\n",
    "    elif re.search('21334211', label):\n",
    "        return 19"
   ]
  },
  {
   "cell_type": "code",
   "execution_count": null,
   "id": "ea092f5a",
   "metadata": {
    "ExecuteTime": {
     "start_time": "2023-10-09T16:51:46.253772Z",
     "end_time": "2023-10-09T16:51:46.313987Z"
    }
   },
   "outputs": [],
   "source": [
    "import numpy as np\n",
    "from icecream import ic\n",
    "\n",
    "cameras = elem.getElementsByTagName('camera')\n",
    "\n",
    "out = dict()\n",
    "for i in range(20):\n",
    "    out['cam'+str(i)] = dict()\n",
    "\n",
    "for camera in cameras:\n",
    "    parameters = dict()\n",
    "    \n",
    "    # 属于哪一组的摄像机\n",
    "    sensor_id = camera.getAttribute('sensor_id')\n",
    "    sensor_id = int(sensor_id)\n",
    "    sensor_id = 0\n",
    "\n",
    "    print(sensor_id)\n",
    "    parameters['K'] = intrinsics['K'][sensor_id]\n",
    "    \n",
    "    label = camera.getAttribute('label')\n",
    "    cam_num = camera_sort(label)\n",
    "    \n",
    "    transform = camera.getElementsByTagName('transform')[0].childNodes[0].nodeValue\n",
    "    transform = transform.split(' ')\n",
    "    transform = [float(i) for i in transform]\n",
    "    \n",
    "    transform = np.array(transform)\n",
    "    transform = transform.reshape(4,4)\n",
    "    # 外参数矩阵为transfrom的逆矩阵\n",
    "    # print(transform)\n",
    "    extrinsics = np.linalg.inv(transform)\n",
    "    # extrinsics = transform\n",
    "\n",
    "    # ic(transform@extrinsics)\n",
    "\n",
    "    R = extrinsics[0:3,0:3].reshape(-1).tolist()\n",
    "    T = extrinsics[0:3,-1].tolist()\n",
    "    \n",
    "    parameters['R'] = R\n",
    "    parameters['T'] = T\n",
    "    parameters['imgSize'] = [intrinsics['width'][sensor_id], intrinsics['height'][sensor_id]]\n",
    "    parameters['distort'] = intrinsics['distort'][sensor_id]\n",
    "    \n",
    "    out['cam'+str(cam_num)] = parameters\n",
    "\n",
    "print(out)\n",
    "# cameras.getElementsByTagName('camera')[0].getAttribute('label')"
   ]
  },
  {
   "cell_type": "code",
   "execution_count": null,
   "id": "c23687b9",
   "metadata": {
    "ExecuteTime": {
     "start_time": "2023-10-09T16:51:46.320035Z",
     "end_time": "2023-10-09T16:51:46.323883Z"
    }
   },
   "outputs": [],
   "source": [
    "import json\n",
    "with open(\"cello_1113_scale_camera.json\", \"w\", encoding='utf-8') as f:\n",
    "    json.dump(out, f, indent=4)"
   ]
  }
 ],
 "metadata": {
  "kernelspec": {
   "name": "python3",
   "language": "python",
   "display_name": "Python 3 (ipykernel)"
  },
  "language_info": {
   "codemirror_mode": {
    "name": "ipython",
    "version": 3
   },
   "file_extension": ".py",
   "mimetype": "text/x-python",
   "name": "python",
   "nbconvert_exporter": "python",
   "pygments_lexer": "ipython3",
   "version": "3.8.8"
  }
 },
 "nbformat": 4,
 "nbformat_minor": 5
}
